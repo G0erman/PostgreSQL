{
 "cells": [
  {
   "cell_type": "markdown",
   "id": "06850652-a2b1-49df-8409-3e262ee47089",
   "metadata": {},
   "source": [
    "# Configuration"
   ]
  },
  {
   "cell_type": "code",
   "execution_count": 1,
   "id": "193b6a97-bc4f-45ed-be0e-6472a58f8deb",
   "metadata": {},
   "outputs": [
    {
     "name": "stdout",
     "output_type": "stream",
     "text": [
      "[sudo] password for jovyan: \n"
     ]
    }
   ],
   "source": [
    "!sudo apt-get install postgresql"
   ]
  },
  {
   "cell_type": "code",
   "execution_count": 2,
   "id": "7c70ff39-4d2a-4470-b9db-4f52354c49b4",
   "metadata": {},
   "outputs": [
    {
     "name": "stdout",
     "output_type": "stream",
     "text": [
      "[sudo] password for jovyan: \n"
     ]
    }
   ],
   "source": [
    "!sudo su -"
   ]
  },
  {
   "cell_type": "code",
   "execution_count": null,
   "id": "c02fc7de-5363-400c-8a98-d7fdfa3d63d0",
   "metadata": {},
   "outputs": [
    {
     "name": "stdout",
     "output_type": "stream",
     "text": [
      "Password: "
     ]
    }
   ],
   "source": [
    "!su -"
   ]
  },
  {
   "cell_type": "code",
   "execution_count": null,
   "id": "b6cc861b-7b99-4ee3-b6e6-ac28686ba586",
   "metadata": {},
   "outputs": [],
   "source": []
  }
 ],
 "metadata": {
  "kernelspec": {
   "display_name": "Python 3 (ipykernel)",
   "language": "python",
   "name": "python3"
  },
  "language_info": {
   "codemirror_mode": {
    "name": "ipython",
    "version": 3
   },
   "file_extension": ".py",
   "mimetype": "text/x-python",
   "name": "python",
   "nbconvert_exporter": "python",
   "pygments_lexer": "ipython3",
   "version": "3.9.5"
  }
 },
 "nbformat": 4,
 "nbformat_minor": 5
}
